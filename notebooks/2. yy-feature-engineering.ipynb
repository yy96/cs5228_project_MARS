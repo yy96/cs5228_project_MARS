{
 "cells": [
  {
   "cell_type": "code",
   "execution_count": 79,
   "metadata": {},
   "outputs": [],
   "source": [
    "import pandas as pd\n",
    "import numpy as np\n",
    "import matplotlib.pyplot as plt\n",
    "import seaborn as sns\n",
    "import scipy.stats as stats\n",
    "import math\n",
    "import string\n",
    "from sklearn.feature_extraction.text import TfidfTransformer, CountVectorizer\n",
    "import nltk\n",
    "from nltk.corpus import stopwords\n",
    "from nltk import word_tokenize\n",
    "from wordcloud import WordCloud, STOPWORDS\n",
    "\n",
    "nltk.download('stopwords')"
   ]
  },
  {
   "cell_type": "code",
   "execution_count": 35,
   "metadata": {},
   "outputs": [
    {
     "name": "stdout",
     "output_type": "stream",
     "text": [
      "(16784, 30)\n"
     ]
    },
    {
     "data": {
      "text/html": [
       "<div>\n",
       "<style scoped>\n",
       "    .dataframe tbody tr th:only-of-type {\n",
       "        vertical-align: middle;\n",
       "    }\n",
       "\n",
       "    .dataframe tbody tr th {\n",
       "        vertical-align: top;\n",
       "    }\n",
       "\n",
       "    .dataframe thead th {\n",
       "        text-align: right;\n",
       "    }\n",
       "</style>\n",
       "<table border=\"1\" class=\"dataframe\">\n",
       "  <thead>\n",
       "    <tr style=\"text-align: right;\">\n",
       "      <th></th>\n",
       "      <th>listing_id</th>\n",
       "      <th>title</th>\n",
       "      <th>make</th>\n",
       "      <th>model</th>\n",
       "      <th>description</th>\n",
       "      <th>manufactured</th>\n",
       "      <th>original_reg_date</th>\n",
       "      <th>reg_date</th>\n",
       "      <th>type_of_vehicle</th>\n",
       "      <th>category</th>\n",
       "      <th>...</th>\n",
       "      <th>mileage</th>\n",
       "      <th>omv</th>\n",
       "      <th>arf</th>\n",
       "      <th>opc_scheme</th>\n",
       "      <th>lifespan</th>\n",
       "      <th>eco_category</th>\n",
       "      <th>features</th>\n",
       "      <th>accessories</th>\n",
       "      <th>indicative_price</th>\n",
       "      <th>price</th>\n",
       "    </tr>\n",
       "  </thead>\n",
       "  <tbody>\n",
       "    <tr>\n",
       "      <th>0</th>\n",
       "      <td>1030324</td>\n",
       "      <td>BMW 3 Series 320i Gran Turismo M-Sport</td>\n",
       "      <td>bmw</td>\n",
       "      <td>320i</td>\n",
       "      <td>1 owner! 320i gt m-sports model! big brake kit...</td>\n",
       "      <td>2013.0</td>\n",
       "      <td>NaN</td>\n",
       "      <td>09-dec-2013</td>\n",
       "      <td>luxury sedan</td>\n",
       "      <td>parf car, premium ad car, low mileage car</td>\n",
       "      <td>...</td>\n",
       "      <td>73000.0</td>\n",
       "      <td>45330.0</td>\n",
       "      <td>50462.0</td>\n",
       "      <td>NaN</td>\n",
       "      <td>NaN</td>\n",
       "      <td>uncategorized</td>\n",
       "      <td>5 doors gt, powerful and fuel efficient 2.0l t...</td>\n",
       "      <td>bmw i-drive, navigation, bluetooth/aux/usb inp...</td>\n",
       "      <td>NaN</td>\n",
       "      <td>71300.0</td>\n",
       "    </tr>\n",
       "    <tr>\n",
       "      <th>1</th>\n",
       "      <td>1021510</td>\n",
       "      <td>Toyota Hiace 3.0M</td>\n",
       "      <td>NaN</td>\n",
       "      <td>hiace</td>\n",
       "      <td>high loan available! low mileage unit. wear an...</td>\n",
       "      <td>2014.0</td>\n",
       "      <td>NaN</td>\n",
       "      <td>26-jan-2015</td>\n",
       "      <td>van</td>\n",
       "      <td>premium ad car</td>\n",
       "      <td>...</td>\n",
       "      <td>110112.0</td>\n",
       "      <td>27502.0</td>\n",
       "      <td>1376.0</td>\n",
       "      <td>NaN</td>\n",
       "      <td>25-jan-2035</td>\n",
       "      <td>uncategorized</td>\n",
       "      <td>low mileage unit. well maintained vehicle. vie...</td>\n",
       "      <td>factory radio setting. front recording camera....</td>\n",
       "      <td>NaN</td>\n",
       "      <td>43800.0</td>\n",
       "    </tr>\n",
       "    <tr>\n",
       "      <th>2</th>\n",
       "      <td>1026909</td>\n",
       "      <td>Mercedes-Benz CLA-Class CLA180</td>\n",
       "      <td>mercedes-benz</td>\n",
       "      <td>cla180</td>\n",
       "      <td>1 owner c&amp;c unit. full agent service with 1 mo...</td>\n",
       "      <td>2016.0</td>\n",
       "      <td>NaN</td>\n",
       "      <td>25-jul-2016</td>\n",
       "      <td>luxury sedan</td>\n",
       "      <td>parf car, premium ad car</td>\n",
       "      <td>...</td>\n",
       "      <td>80000.0</td>\n",
       "      <td>27886.0</td>\n",
       "      <td>26041.0</td>\n",
       "      <td>NaN</td>\n",
       "      <td>NaN</td>\n",
       "      <td>uncategorized</td>\n",
       "      <td>responsive and fuel efficient 1.6l inline 4 cy...</td>\n",
       "      <td>dual electric/memory seats. factory fitted aud...</td>\n",
       "      <td>NaN</td>\n",
       "      <td>95500.0</td>\n",
       "    </tr>\n",
       "    <tr>\n",
       "      <th>3</th>\n",
       "      <td>1019371</td>\n",
       "      <td>Mercedes-Benz E-Class E180 Avantgarde</td>\n",
       "      <td>mercedes-benz</td>\n",
       "      <td>e180</td>\n",
       "      <td>fully agent maintained, 3 years warranty 10 ye...</td>\n",
       "      <td>2019.0</td>\n",
       "      <td>NaN</td>\n",
       "      <td>17-nov-2020</td>\n",
       "      <td>luxury sedan</td>\n",
       "      <td>parf car, almost new car, consignment car</td>\n",
       "      <td>...</td>\n",
       "      <td>9800.0</td>\n",
       "      <td>46412.0</td>\n",
       "      <td>56977.0</td>\n",
       "      <td>NaN</td>\n",
       "      <td>NaN</td>\n",
       "      <td>uncategorized</td>\n",
       "      <td>1.5l inline-4 twin scroll turbocharged engine,...</td>\n",
       "      <td>64 colour ambient lighting. active parking ass...</td>\n",
       "      <td>NaN</td>\n",
       "      <td>197900.0</td>\n",
       "    </tr>\n",
       "    <tr>\n",
       "      <th>4</th>\n",
       "      <td>1031014</td>\n",
       "      <td>Honda Civic 1.6A VTi</td>\n",
       "      <td>NaN</td>\n",
       "      <td>civic</td>\n",
       "      <td>kah motor unit! 1 owner, lowest 1.98% for full...</td>\n",
       "      <td>2019.0</td>\n",
       "      <td>NaN</td>\n",
       "      <td>20-sep-2019</td>\n",
       "      <td>mid-sized sedan</td>\n",
       "      <td>parf car</td>\n",
       "      <td>...</td>\n",
       "      <td>40000.0</td>\n",
       "      <td>20072.0</td>\n",
       "      <td>20101.0</td>\n",
       "      <td>NaN</td>\n",
       "      <td>NaN</td>\n",
       "      <td>uncategorized</td>\n",
       "      <td>1.6l i-vtec engine, 123 bhp, earth dreams cvt ...</td>\n",
       "      <td>s/rims, premium leather seats, factory touch s...</td>\n",
       "      <td>NaN</td>\n",
       "      <td>103200.0</td>\n",
       "    </tr>\n",
       "  </tbody>\n",
       "</table>\n",
       "<p>5 rows × 30 columns</p>\n",
       "</div>"
      ],
      "text/plain": [
       "   listing_id                                   title           make   model  \\\n",
       "0     1030324  BMW 3 Series 320i Gran Turismo M-Sport            bmw    320i   \n",
       "1     1021510                       Toyota Hiace 3.0M            NaN   hiace   \n",
       "2     1026909          Mercedes-Benz CLA-Class CLA180  mercedes-benz  cla180   \n",
       "3     1019371   Mercedes-Benz E-Class E180 Avantgarde  mercedes-benz    e180   \n",
       "4     1031014                    Honda Civic 1.6A VTi            NaN   civic   \n",
       "\n",
       "                                         description  manufactured  \\\n",
       "0  1 owner! 320i gt m-sports model! big brake kit...        2013.0   \n",
       "1  high loan available! low mileage unit. wear an...        2014.0   \n",
       "2  1 owner c&c unit. full agent service with 1 mo...        2016.0   \n",
       "3  fully agent maintained, 3 years warranty 10 ye...        2019.0   \n",
       "4  kah motor unit! 1 owner, lowest 1.98% for full...        2019.0   \n",
       "\n",
       "  original_reg_date     reg_date  type_of_vehicle  \\\n",
       "0               NaN  09-dec-2013     luxury sedan   \n",
       "1               NaN  26-jan-2015              van   \n",
       "2               NaN  25-jul-2016     luxury sedan   \n",
       "3               NaN  17-nov-2020     luxury sedan   \n",
       "4               NaN  20-sep-2019  mid-sized sedan   \n",
       "\n",
       "                                    category  ...   mileage      omv      arf  \\\n",
       "0  parf car, premium ad car, low mileage car  ...   73000.0  45330.0  50462.0   \n",
       "1                             premium ad car  ...  110112.0  27502.0   1376.0   \n",
       "2                   parf car, premium ad car  ...   80000.0  27886.0  26041.0   \n",
       "3  parf car, almost new car, consignment car  ...    9800.0  46412.0  56977.0   \n",
       "4                                   parf car  ...   40000.0  20072.0  20101.0   \n",
       "\n",
       "  opc_scheme     lifespan   eco_category  \\\n",
       "0        NaN          NaN  uncategorized   \n",
       "1        NaN  25-jan-2035  uncategorized   \n",
       "2        NaN          NaN  uncategorized   \n",
       "3        NaN          NaN  uncategorized   \n",
       "4        NaN          NaN  uncategorized   \n",
       "\n",
       "                                            features  \\\n",
       "0  5 doors gt, powerful and fuel efficient 2.0l t...   \n",
       "1  low mileage unit. well maintained vehicle. vie...   \n",
       "2  responsive and fuel efficient 1.6l inline 4 cy...   \n",
       "3  1.5l inline-4 twin scroll turbocharged engine,...   \n",
       "4  1.6l i-vtec engine, 123 bhp, earth dreams cvt ...   \n",
       "\n",
       "                                         accessories  indicative_price  \\\n",
       "0  bmw i-drive, navigation, bluetooth/aux/usb inp...               NaN   \n",
       "1  factory radio setting. front recording camera....               NaN   \n",
       "2  dual electric/memory seats. factory fitted aud...               NaN   \n",
       "3  64 colour ambient lighting. active parking ass...               NaN   \n",
       "4  s/rims, premium leather seats, factory touch s...               NaN   \n",
       "\n",
       "      price  \n",
       "0   71300.0  \n",
       "1   43800.0  \n",
       "2   95500.0  \n",
       "3  197900.0  \n",
       "4  103200.0  \n",
       "\n",
       "[5 rows x 30 columns]"
      ]
     },
     "execution_count": 35,
     "metadata": {},
     "output_type": "execute_result"
    }
   ],
   "source": [
    "df_input = pd.read_csv(\"../data/raw/train.csv\")\n",
    "print(df_input.shape)\n",
    "df_input.head()"
   ]
  },
  {
   "cell_type": "markdown",
   "metadata": {},
   "source": [
    "# Variable Types"
   ]
  },
  {
   "cell_type": "code",
   "execution_count": 8,
   "metadata": {},
   "outputs": [],
   "source": [
    "target = \"price\""
   ]
  },
  {
   "cell_type": "code",
   "execution_count": 9,
   "metadata": {},
   "outputs": [
    {
     "name": "stdout",
     "output_type": "stream",
     "text": [
      "length of categorical variables: 17\n",
      "categorical variable names: ['listing_id', 'title', 'make', 'model', 'description', 'original_reg_date', 'reg_date', 'type_of_vehicle', 'category', 'transmission', 'fuel_type', 'opc_scheme', 'lifespan', 'eco_category', 'features', 'accessories', 'listing_id']\n"
     ]
    }
   ],
   "source": [
    "cat_vars = [var for var in df_input.columns if df_input[var].dtype == 'O']\n",
    "cat_vars = cat_vars + ['listing_id']\n",
    "print (f\"length of categorical variables: {len(cat_vars)}\")\n",
    "print (f\"categorical variable names: {cat_vars}\")\n",
    "# \"original_reg_date\", \"reg_date\", \"lifespan\" are misclassified, they should belong to date\n"
   ]
  },
  {
   "cell_type": "code",
   "execution_count": 10,
   "metadata": {},
   "outputs": [],
   "source": [
    "time_vars = [\"original_reg_date\", \"reg_date\", \"lifespan\", 'manufactured']\n",
    "for i in time_vars:\n",
    "    if i in cat_vars:\n",
    "        cat_vars.remove(i)"
   ]
  },
  {
   "cell_type": "code",
   "execution_count": 11,
   "metadata": {},
   "outputs": [],
   "source": [
    "df_input[cat_vars] = df_input[cat_vars].astype('O')"
   ]
  },
  {
   "cell_type": "code",
   "execution_count": 12,
   "metadata": {},
   "outputs": [
    {
     "name": "stdout",
     "output_type": "stream",
     "text": [
      "length of numerical variables: 12\n",
      "numerical variable names: ['curb_weight', 'power', 'engine_cap', 'no_of_owners', 'depreciation', 'coe', 'road_tax', 'dereg_value', 'mileage', 'omv', 'arf', 'indicative_price']\n"
     ]
    }
   ],
   "source": [
    "num_vars = [\n",
    "    var for var in df_input.columns if var not in cat_vars+time_vars and var != target\n",
    "]\n",
    "\n",
    "print (f\"length of numerical variables: {len(num_vars)}\")\n",
    "print (f\"numerical variable names: {num_vars}\")"
   ]
  },
  {
   "cell_type": "markdown",
   "metadata": {},
   "source": [
    "# Text features\n",
    "\n",
    "[description, accessories, features, title, category]\n",
    "1. length of the descriptions\n",
    "2. tokenize the words\n",
    "https://www.kaggle.com/sudalairajkumar/simple-feature-engg-notebook-spooky-author\n",
    "3. add target encoding for `category` column"
   ]
  },
  {
   "cell_type": "code",
   "execution_count": 14,
   "metadata": {},
   "outputs": [
    {
     "data": {
      "text/html": [
       "<div>\n",
       "<style scoped>\n",
       "    .dataframe tbody tr th:only-of-type {\n",
       "        vertical-align: middle;\n",
       "    }\n",
       "\n",
       "    .dataframe tbody tr th {\n",
       "        vertical-align: top;\n",
       "    }\n",
       "\n",
       "    .dataframe thead th {\n",
       "        text-align: right;\n",
       "    }\n",
       "</style>\n",
       "<table border=\"1\" class=\"dataframe\">\n",
       "  <thead>\n",
       "    <tr style=\"text-align: right;\">\n",
       "      <th></th>\n",
       "      <th>description</th>\n",
       "      <th>accessories</th>\n",
       "      <th>features</th>\n",
       "      <th>title</th>\n",
       "      <th>category</th>\n",
       "    </tr>\n",
       "  </thead>\n",
       "  <tbody>\n",
       "    <tr>\n",
       "      <th>0</th>\n",
       "      <td>1 owner! 320i gt m-sports model! big brake kit...</td>\n",
       "      <td>bmw i-drive, navigation, bluetooth/aux/usb inp...</td>\n",
       "      <td>5 doors gt, powerful and fuel efficient 2.0l t...</td>\n",
       "      <td>BMW 3 Series 320i Gran Turismo M-Sport</td>\n",
       "      <td>parf car, premium ad car, low mileage car</td>\n",
       "    </tr>\n",
       "    <tr>\n",
       "      <th>1</th>\n",
       "      <td>high loan available! low mileage unit. wear an...</td>\n",
       "      <td>factory radio setting. front recording camera....</td>\n",
       "      <td>low mileage unit. well maintained vehicle. vie...</td>\n",
       "      <td>Toyota Hiace 3.0M</td>\n",
       "      <td>premium ad car</td>\n",
       "    </tr>\n",
       "    <tr>\n",
       "      <th>2</th>\n",
       "      <td>1 owner c&amp;c unit. full agent service with 1 mo...</td>\n",
       "      <td>dual electric/memory seats. factory fitted aud...</td>\n",
       "      <td>responsive and fuel efficient 1.6l inline 4 cy...</td>\n",
       "      <td>Mercedes-Benz CLA-Class CLA180</td>\n",
       "      <td>parf car, premium ad car</td>\n",
       "    </tr>\n",
       "    <tr>\n",
       "      <th>3</th>\n",
       "      <td>fully agent maintained, 3 years warranty 10 ye...</td>\n",
       "      <td>64 colour ambient lighting. active parking ass...</td>\n",
       "      <td>1.5l inline-4 twin scroll turbocharged engine,...</td>\n",
       "      <td>Mercedes-Benz E-Class E180 Avantgarde</td>\n",
       "      <td>parf car, almost new car, consignment car</td>\n",
       "    </tr>\n",
       "    <tr>\n",
       "      <th>4</th>\n",
       "      <td>kah motor unit! 1 owner, lowest 1.98% for full...</td>\n",
       "      <td>s/rims, premium leather seats, factory touch s...</td>\n",
       "      <td>1.6l i-vtec engine, 123 bhp, earth dreams cvt ...</td>\n",
       "      <td>Honda Civic 1.6A VTi</td>\n",
       "      <td>parf car</td>\n",
       "    </tr>\n",
       "  </tbody>\n",
       "</table>\n",
       "</div>"
      ],
      "text/plain": [
       "                                         description  \\\n",
       "0  1 owner! 320i gt m-sports model! big brake kit...   \n",
       "1  high loan available! low mileage unit. wear an...   \n",
       "2  1 owner c&c unit. full agent service with 1 mo...   \n",
       "3  fully agent maintained, 3 years warranty 10 ye...   \n",
       "4  kah motor unit! 1 owner, lowest 1.98% for full...   \n",
       "\n",
       "                                         accessories  \\\n",
       "0  bmw i-drive, navigation, bluetooth/aux/usb inp...   \n",
       "1  factory radio setting. front recording camera....   \n",
       "2  dual electric/memory seats. factory fitted aud...   \n",
       "3  64 colour ambient lighting. active parking ass...   \n",
       "4  s/rims, premium leather seats, factory touch s...   \n",
       "\n",
       "                                            features  \\\n",
       "0  5 doors gt, powerful and fuel efficient 2.0l t...   \n",
       "1  low mileage unit. well maintained vehicle. vie...   \n",
       "2  responsive and fuel efficient 1.6l inline 4 cy...   \n",
       "3  1.5l inline-4 twin scroll turbocharged engine,...   \n",
       "4  1.6l i-vtec engine, 123 bhp, earth dreams cvt ...   \n",
       "\n",
       "                                    title  \\\n",
       "0  BMW 3 Series 320i Gran Turismo M-Sport   \n",
       "1                       Toyota Hiace 3.0M   \n",
       "2          Mercedes-Benz CLA-Class CLA180   \n",
       "3   Mercedes-Benz E-Class E180 Avantgarde   \n",
       "4                    Honda Civic 1.6A VTi   \n",
       "\n",
       "                                    category  \n",
       "0  parf car, premium ad car, low mileage car  \n",
       "1                             premium ad car  \n",
       "2                   parf car, premium ad car  \n",
       "3  parf car, almost new car, consignment car  \n",
       "4                                   parf car  "
      ]
     },
     "execution_count": 14,
     "metadata": {},
     "output_type": "execute_result"
    }
   ],
   "source": [
    "df_input[[\"description\", \"accessories\", \"features\", \"title\", \"category\"]].head(5)"
   ]
  },
  {
   "cell_type": "markdown",
   "metadata": {},
   "source": [
    "- ### category"
   ]
  },
  {
   "cell_type": "code",
   "execution_count": 60,
   "metadata": {},
   "outputs": [],
   "source": [
    "def _remove_punctuation(word):\n",
    "    punch = string.punctuation\n",
    "    for p in punch:\n",
    "        word = word.replace(p, '')\n",
    "    word = word.replace('…', '')\n",
    "    word = word.replace('–', '')\n",
    "    word = word.replace(\"’\", '')\n",
    "    return word"
   ]
  },
  {
   "cell_type": "code",
   "execution_count": 36,
   "metadata": {},
   "outputs": [],
   "source": [
    "def generate_categories(df):\n",
    "    df[\"category_clean\"] = df[\"category\"].apply(lambda x: \n",
    "                                                [_remove_punctuation(i.strip()) for i in x.split(\",\")]\n",
    "                                               )\n",
    "\n",
    "    all_category = []\n",
    "    for i in df[\"category_clean\"]:\n",
    "        all_category += i\n",
    "    all_category_clean = [i for i in list(set(all_category)) if i != '']\n",
    "    \n",
    "    return all_category_clean\n",
    "\n",
    "def add_category_features(df):\n",
    "    df[\"category_clean\"] = df[\"category\"].apply(lambda x: \n",
    "                                                [_remove_punctuation(i.strip()) for i in x.split(\",\")]\n",
    "                                               )\n",
    "    for i in all_category_clean:\n",
    "        col_name = f\"is_{i.replace(' ', '_')}\"\n",
    "        df[col_name] = df[\"category_clean\"].apply(lambda x: np.where(col_name in x, 1, 0))\n",
    "    \n",
    "    return df"
   ]
  },
  {
   "cell_type": "code",
   "execution_count": 42,
   "metadata": {},
   "outputs": [
    {
     "data": {
      "text/html": [
       "<div>\n",
       "<style scoped>\n",
       "    .dataframe tbody tr th:only-of-type {\n",
       "        vertical-align: middle;\n",
       "    }\n",
       "\n",
       "    .dataframe tbody tr th {\n",
       "        vertical-align: top;\n",
       "    }\n",
       "\n",
       "    .dataframe thead th {\n",
       "        text-align: right;\n",
       "    }\n",
       "</style>\n",
       "<table border=\"1\" class=\"dataframe\">\n",
       "  <thead>\n",
       "    <tr style=\"text-align: right;\">\n",
       "      <th></th>\n",
       "      <th>listing_id</th>\n",
       "      <th>title</th>\n",
       "      <th>make</th>\n",
       "      <th>model</th>\n",
       "      <th>description</th>\n",
       "      <th>manufactured</th>\n",
       "      <th>original_reg_date</th>\n",
       "      <th>reg_date</th>\n",
       "      <th>type_of_vehicle</th>\n",
       "      <th>category</th>\n",
       "      <th>...</th>\n",
       "      <th>is_low_mileage_car</th>\n",
       "      <th>is_imported_used_vehicle</th>\n",
       "      <th>is_premium_ad_car</th>\n",
       "      <th>is_rare__exotic</th>\n",
       "      <th>is_electric_cars</th>\n",
       "      <th>is_opc_car</th>\n",
       "      <th>is_vintage_cars</th>\n",
       "      <th>is_sgcarmart_warranty_cars</th>\n",
       "      <th>is_consignment_car</th>\n",
       "      <th>is_direct_owner_sale</th>\n",
       "    </tr>\n",
       "  </thead>\n",
       "  <tbody>\n",
       "    <tr>\n",
       "      <th>0</th>\n",
       "      <td>1030324</td>\n",
       "      <td>BMW 3 Series 320i Gran Turismo M-Sport</td>\n",
       "      <td>bmw</td>\n",
       "      <td>320i</td>\n",
       "      <td>1 owner! 320i gt m-sports model! big brake kit...</td>\n",
       "      <td>2013.0</td>\n",
       "      <td>NaN</td>\n",
       "      <td>09-dec-2013</td>\n",
       "      <td>luxury sedan</td>\n",
       "      <td>parf car, premium ad car, low mileage car</td>\n",
       "      <td>...</td>\n",
       "      <td>0</td>\n",
       "      <td>0</td>\n",
       "      <td>0</td>\n",
       "      <td>0</td>\n",
       "      <td>0</td>\n",
       "      <td>0</td>\n",
       "      <td>0</td>\n",
       "      <td>0</td>\n",
       "      <td>0</td>\n",
       "      <td>0</td>\n",
       "    </tr>\n",
       "    <tr>\n",
       "      <th>1</th>\n",
       "      <td>1021510</td>\n",
       "      <td>Toyota Hiace 3.0M</td>\n",
       "      <td>NaN</td>\n",
       "      <td>hiace</td>\n",
       "      <td>high loan available! low mileage unit. wear an...</td>\n",
       "      <td>2014.0</td>\n",
       "      <td>NaN</td>\n",
       "      <td>26-jan-2015</td>\n",
       "      <td>van</td>\n",
       "      <td>premium ad car</td>\n",
       "      <td>...</td>\n",
       "      <td>0</td>\n",
       "      <td>0</td>\n",
       "      <td>0</td>\n",
       "      <td>0</td>\n",
       "      <td>0</td>\n",
       "      <td>0</td>\n",
       "      <td>0</td>\n",
       "      <td>0</td>\n",
       "      <td>0</td>\n",
       "      <td>0</td>\n",
       "    </tr>\n",
       "    <tr>\n",
       "      <th>2</th>\n",
       "      <td>1026909</td>\n",
       "      <td>Mercedes-Benz CLA-Class CLA180</td>\n",
       "      <td>mercedes-benz</td>\n",
       "      <td>cla180</td>\n",
       "      <td>1 owner c&amp;c unit. full agent service with 1 mo...</td>\n",
       "      <td>2016.0</td>\n",
       "      <td>NaN</td>\n",
       "      <td>25-jul-2016</td>\n",
       "      <td>luxury sedan</td>\n",
       "      <td>parf car, premium ad car</td>\n",
       "      <td>...</td>\n",
       "      <td>0</td>\n",
       "      <td>0</td>\n",
       "      <td>0</td>\n",
       "      <td>0</td>\n",
       "      <td>0</td>\n",
       "      <td>0</td>\n",
       "      <td>0</td>\n",
       "      <td>0</td>\n",
       "      <td>0</td>\n",
       "      <td>0</td>\n",
       "    </tr>\n",
       "    <tr>\n",
       "      <th>3</th>\n",
       "      <td>1019371</td>\n",
       "      <td>Mercedes-Benz E-Class E180 Avantgarde</td>\n",
       "      <td>mercedes-benz</td>\n",
       "      <td>e180</td>\n",
       "      <td>fully agent maintained, 3 years warranty 10 ye...</td>\n",
       "      <td>2019.0</td>\n",
       "      <td>NaN</td>\n",
       "      <td>17-nov-2020</td>\n",
       "      <td>luxury sedan</td>\n",
       "      <td>parf car, almost new car, consignment car</td>\n",
       "      <td>...</td>\n",
       "      <td>0</td>\n",
       "      <td>0</td>\n",
       "      <td>0</td>\n",
       "      <td>0</td>\n",
       "      <td>0</td>\n",
       "      <td>0</td>\n",
       "      <td>0</td>\n",
       "      <td>0</td>\n",
       "      <td>0</td>\n",
       "      <td>0</td>\n",
       "    </tr>\n",
       "    <tr>\n",
       "      <th>4</th>\n",
       "      <td>1031014</td>\n",
       "      <td>Honda Civic 1.6A VTi</td>\n",
       "      <td>NaN</td>\n",
       "      <td>civic</td>\n",
       "      <td>kah motor unit! 1 owner, lowest 1.98% for full...</td>\n",
       "      <td>2019.0</td>\n",
       "      <td>NaN</td>\n",
       "      <td>20-sep-2019</td>\n",
       "      <td>mid-sized sedan</td>\n",
       "      <td>parf car</td>\n",
       "      <td>...</td>\n",
       "      <td>0</td>\n",
       "      <td>0</td>\n",
       "      <td>0</td>\n",
       "      <td>0</td>\n",
       "      <td>0</td>\n",
       "      <td>0</td>\n",
       "      <td>0</td>\n",
       "      <td>0</td>\n",
       "      <td>0</td>\n",
       "      <td>0</td>\n",
       "    </tr>\n",
       "  </tbody>\n",
       "</table>\n",
       "<p>5 rows × 61 columns</p>\n",
       "</div>"
      ],
      "text/plain": [
       "  listing_id                                   title           make   model  \\\n",
       "0    1030324  BMW 3 Series 320i Gran Turismo M-Sport            bmw    320i   \n",
       "1    1021510                       Toyota Hiace 3.0M            NaN   hiace   \n",
       "2    1026909          Mercedes-Benz CLA-Class CLA180  mercedes-benz  cla180   \n",
       "3    1019371   Mercedes-Benz E-Class E180 Avantgarde  mercedes-benz    e180   \n",
       "4    1031014                    Honda Civic 1.6A VTi            NaN   civic   \n",
       "\n",
       "                                         description  manufactured  \\\n",
       "0  1 owner! 320i gt m-sports model! big brake kit...        2013.0   \n",
       "1  high loan available! low mileage unit. wear an...        2014.0   \n",
       "2  1 owner c&c unit. full agent service with 1 mo...        2016.0   \n",
       "3  fully agent maintained, 3 years warranty 10 ye...        2019.0   \n",
       "4  kah motor unit! 1 owner, lowest 1.98% for full...        2019.0   \n",
       "\n",
       "  original_reg_date     reg_date  type_of_vehicle  \\\n",
       "0               NaN  09-dec-2013     luxury sedan   \n",
       "1               NaN  26-jan-2015              van   \n",
       "2               NaN  25-jul-2016     luxury sedan   \n",
       "3               NaN  17-nov-2020     luxury sedan   \n",
       "4               NaN  20-sep-2019  mid-sized sedan   \n",
       "\n",
       "                                    category  ... is_low_mileage_car  \\\n",
       "0  parf car, premium ad car, low mileage car  ...                  0   \n",
       "1                             premium ad car  ...                  0   \n",
       "2                   parf car, premium ad car  ...                  0   \n",
       "3  parf car, almost new car, consignment car  ...                  0   \n",
       "4                                   parf car  ...                  0   \n",
       "\n",
       "   is_imported_used_vehicle  is_premium_ad_car is_rare__exotic  \\\n",
       "0                         0                  0               0   \n",
       "1                         0                  0               0   \n",
       "2                         0                  0               0   \n",
       "3                         0                  0               0   \n",
       "4                         0                  0               0   \n",
       "\n",
       "   is_electric_cars  is_opc_car  is_vintage_cars  is_sgcarmart_warranty_cars  \\\n",
       "0                 0           0                0                           0   \n",
       "1                 0           0                0                           0   \n",
       "2                 0           0                0                           0   \n",
       "3                 0           0                0                           0   \n",
       "4                 0           0                0                           0   \n",
       "\n",
       "   is_consignment_car  is_direct_owner_sale  \n",
       "0                   0                     0  \n",
       "1                   0                     0  \n",
       "2                   0                     0  \n",
       "3                   0                     0  \n",
       "4                   0                     0  \n",
       "\n",
       "[5 rows x 61 columns]"
      ]
     },
     "execution_count": 42,
     "metadata": {},
     "output_type": "execute_result"
    }
   ],
   "source": [
    "all_category_clean = generate_categories(df_input)\n",
    "add_category_features(df_input).head(5)"
   ]
  },
  {
   "cell_type": "markdown",
   "metadata": {},
   "source": [
    "- ### title"
   ]
  },
  {
   "cell_type": "code",
   "execution_count": 44,
   "metadata": {},
   "outputs": [
    {
     "name": "stdout",
     "output_type": "stream",
     "text": [
      "(16784, 31)\n",
      "5775\n"
     ]
    }
   ],
   "source": [
    "# title is not a unique column for each listing\n",
    "print(df_input.shape)\n",
    "print(len(df_input[\"title\"].unique()))"
   ]
  },
  {
   "cell_type": "code",
   "execution_count": 45,
   "metadata": {},
   "outputs": [
    {
     "data": {
      "text/html": [
       "<div>\n",
       "<style scoped>\n",
       "    .dataframe tbody tr th:only-of-type {\n",
       "        vertical-align: middle;\n",
       "    }\n",
       "\n",
       "    .dataframe tbody tr th {\n",
       "        vertical-align: top;\n",
       "    }\n",
       "\n",
       "    .dataframe thead th {\n",
       "        text-align: right;\n",
       "    }\n",
       "</style>\n",
       "<table border=\"1\" class=\"dataframe\">\n",
       "  <thead>\n",
       "    <tr style=\"text-align: right;\">\n",
       "      <th></th>\n",
       "      <th>title</th>\n",
       "      <th>make</th>\n",
       "      <th>model</th>\n",
       "      <th>engine_cap</th>\n",
       "    </tr>\n",
       "  </thead>\n",
       "  <tbody>\n",
       "    <tr>\n",
       "      <th>0</th>\n",
       "      <td>BMW 3 Series 320i Gran Turismo M-Sport</td>\n",
       "      <td>bmw</td>\n",
       "      <td>320i</td>\n",
       "      <td>1997.0</td>\n",
       "    </tr>\n",
       "    <tr>\n",
       "      <th>1</th>\n",
       "      <td>Toyota Hiace 3.0M</td>\n",
       "      <td>NaN</td>\n",
       "      <td>hiace</td>\n",
       "      <td>2982.0</td>\n",
       "    </tr>\n",
       "    <tr>\n",
       "      <th>2</th>\n",
       "      <td>Mercedes-Benz CLA-Class CLA180</td>\n",
       "      <td>mercedes-benz</td>\n",
       "      <td>cla180</td>\n",
       "      <td>1595.0</td>\n",
       "    </tr>\n",
       "    <tr>\n",
       "      <th>3</th>\n",
       "      <td>Mercedes-Benz E-Class E180 Avantgarde</td>\n",
       "      <td>mercedes-benz</td>\n",
       "      <td>e180</td>\n",
       "      <td>1497.0</td>\n",
       "    </tr>\n",
       "    <tr>\n",
       "      <th>4</th>\n",
       "      <td>Honda Civic 1.6A VTi</td>\n",
       "      <td>NaN</td>\n",
       "      <td>civic</td>\n",
       "      <td>1597.0</td>\n",
       "    </tr>\n",
       "    <tr>\n",
       "      <th>...</th>\n",
       "      <td>...</td>\n",
       "      <td>...</td>\n",
       "      <td>...</td>\n",
       "      <td>...</td>\n",
       "    </tr>\n",
       "    <tr>\n",
       "      <th>16779</th>\n",
       "      <td>Volvo XC90 T5 Momentum</td>\n",
       "      <td>volvo</td>\n",
       "      <td>xc90</td>\n",
       "      <td>1969.0</td>\n",
       "    </tr>\n",
       "    <tr>\n",
       "      <th>16780</th>\n",
       "      <td>Hyundai Ioniq Hybrid 1.6A DCT Sunroof</td>\n",
       "      <td>hyundai</td>\n",
       "      <td>ioniq</td>\n",
       "      <td>1580.0</td>\n",
       "    </tr>\n",
       "    <tr>\n",
       "      <th>16781</th>\n",
       "      <td>MINI Cooper Cabriolet 1.6A (COE till 08/2030)</td>\n",
       "      <td>mini</td>\n",
       "      <td>cooper</td>\n",
       "      <td>1598.0</td>\n",
       "    </tr>\n",
       "    <tr>\n",
       "      <th>16782</th>\n",
       "      <td>Honda Fit 1.3A G F-Package</td>\n",
       "      <td>NaN</td>\n",
       "      <td>fit</td>\n",
       "      <td>1317.0</td>\n",
       "    </tr>\n",
       "    <tr>\n",
       "      <th>16783</th>\n",
       "      <td>Aston Martin DB11 V8 4.0A</td>\n",
       "      <td>aston martin</td>\n",
       "      <td>db11</td>\n",
       "      <td>3982.0</td>\n",
       "    </tr>\n",
       "  </tbody>\n",
       "</table>\n",
       "<p>16784 rows × 4 columns</p>\n",
       "</div>"
      ],
      "text/plain": [
       "                                               title           make   model  \\\n",
       "0             BMW 3 Series 320i Gran Turismo M-Sport            bmw    320i   \n",
       "1                                  Toyota Hiace 3.0M            NaN   hiace   \n",
       "2                     Mercedes-Benz CLA-Class CLA180  mercedes-benz  cla180   \n",
       "3              Mercedes-Benz E-Class E180 Avantgarde  mercedes-benz    e180   \n",
       "4                               Honda Civic 1.6A VTi            NaN   civic   \n",
       "...                                              ...            ...     ...   \n",
       "16779                         Volvo XC90 T5 Momentum          volvo    xc90   \n",
       "16780          Hyundai Ioniq Hybrid 1.6A DCT Sunroof        hyundai   ioniq   \n",
       "16781  MINI Cooper Cabriolet 1.6A (COE till 08/2030)           mini  cooper   \n",
       "16782                     Honda Fit 1.3A G F-Package            NaN     fit   \n",
       "16783                      Aston Martin DB11 V8 4.0A   aston martin    db11   \n",
       "\n",
       "       engine_cap  \n",
       "0          1997.0  \n",
       "1          2982.0  \n",
       "2          1595.0  \n",
       "3          1497.0  \n",
       "4          1597.0  \n",
       "...           ...  \n",
       "16779      1969.0  \n",
       "16780      1580.0  \n",
       "16781      1598.0  \n",
       "16782      1317.0  \n",
       "16783      3982.0  \n",
       "\n",
       "[16784 rows x 4 columns]"
      ]
     },
     "execution_count": 45,
     "metadata": {},
     "output_type": "execute_result"
    }
   ],
   "source": [
    "# based on dataset description \n",
    "# title - title of the listing; free text attribute typically containing the make, model, engine type/size\n",
    "df_input[['title', 'make', 'model', 'engine_cap']]"
   ]
  },
  {
   "cell_type": "code",
   "execution_count": 53,
   "metadata": {},
   "outputs": [
    {
     "name": "stderr",
     "output_type": "stream",
     "text": [
      "/Users/user/.pyenv/versions/anaconda3-5.2.0/envs/py37/lib/python3.7/site-packages/seaborn/_decorators.py:43: FutureWarning: Pass the following variable as a keyword arg: x. From version 0.12, the only valid positional argument will be `data`, and passing other arguments without an explicit keyword will result in an error or misinterpretation.\n",
      "  FutureWarning\n"
     ]
    },
    {
     "data": {
      "image/png": "[encoded data removed]",
      "text/plain": [
       "<Figure size 864x288 with 1 Axes>"
      ]
     },
     "metadata": {
      "needs_background": "light"
     },
     "output_type": "display_data"
    }
   ],
   "source": [
    "count = df_input[\"title\"].value_counts()\n",
    "plt.figure(figsize=(12,4))  \n",
    "sns.countplot(list(count))\n",
    "plt.show()"
   ]
  },
  {
   "cell_type": "markdown",
   "metadata": {},
   "source": [
    "Most of the title are unique, or very rare appearance as shown by the high number in low counts. And the title information which includes make, model and engine cap are included in other columns alrdy, this column does give new information thus can possibly be droped."
   ]
  },
  {
   "cell_type": "markdown",
   "metadata": {},
   "source": [
    "- ### features, accessories, description"
   ]
  },
  {
   "cell_type": "code",
   "execution_count": 55,
   "metadata": {},
   "outputs": [
    {
     "name": "stdout",
     "output_type": "stream",
     "text": [
      "(16784, 31)\n",
      "10688\n"
     ]
    }
   ],
   "source": [
    "# features are almost unique\n",
    "print(df_input.shape)\n",
    "print(len(df_input[\"features\"].unique()))"
   ]
  },
  {
   "cell_type": "code",
   "execution_count": 59,
   "metadata": {},
   "outputs": [
    {
     "data": {
      "text/plain": [
       "'5 doors gt, powerful and fuel efficient 2.0l twin power turbo engine, keyless start/stop, bluetooth, drive select eco, normal. retractable spoiler. view specs of the bmw 3 series gran turismo'"
      ]
     },
     "execution_count": 59,
     "metadata": {},
     "output_type": "execute_result"
    }
   ],
   "source": [
    "df[\"features\"][0]"
   ]
  },
  {
   "cell_type": "code",
   "execution_count": 81,
   "metadata": {},
   "outputs": [],
   "source": [
    "def _remove_stopwords(tokens):\n",
    "    stopwords_list = stopwords.words('english')\n",
    "    tokens = [i for i in tokens if i not in stopwords_list]\n",
    "    return tokens\n",
    "\n",
    "def _remove_numbers(tokens):\n",
    "    tokens = [i for i in tokens if not i.isdigit()]\n",
    "    return tokens\n",
    "\n",
    "def _to_lower_case(tokens):\n",
    "    tokens = [word.lower() for word in tokens]\n",
    "    return tokens"
   ]
  },
  {
   "cell_type": "code",
   "execution_count": 95,
   "metadata": {},
   "outputs": [],
   "source": [
    "def add_basic_text_features(df):\n",
    "    text_cols = [\"features\", \"accessories\", \"description\"]\n",
    "    eng_stopwords = stopwords.words('english')\n",
    "    \n",
    "    for col in text_cols:\n",
    "        df[f\"{col}_num_words\"] = df[col].apply(lambda x: len(str(x).split()))\n",
    "        df[f\"{col}_num_unique_words\"] = df[col].apply(lambda x: len(set(str(x).split())))\n",
    "        df[f\"{col}_num_chars\"] = df[col].apply(lambda x: len(str(x)))\n",
    "        df[f\"{col}_num_chars\"] = df[col].apply(lambda x: len(str(x)))\n",
    "        df[f\"{col}_num_stopwords\"] = df[col].apply(lambda x: len([w for w in str(x).lower().split() if w in eng_stopwords]))\n",
    "        df[f\"{col}_num_punctuations\"] =df[col].apply(lambda x: len([c for c in str(x) if c in string.punctuation]) )        df[f\"{col}_mean_word_len\"] = df[col].apply(lambda x: np.mean([len(w) for w in str(x).split()]))\n",
    "    \n",
    "    return df"
   ]
  },
  {
   "cell_type": "code",
   "execution_count": 105,
   "metadata": {},
   "outputs": [
    {
     "data": {
      "text/html": [
       "<div>\n",
       "<style scoped>\n",
       "    .dataframe tbody tr th:only-of-type {\n",
       "        vertical-align: middle;\n",
       "    }\n",
       "\n",
       "    .dataframe tbody tr th {\n",
       "        vertical-align: top;\n",
       "    }\n",
       "\n",
       "    .dataframe thead th {\n",
       "        text-align: right;\n",
       "    }\n",
       "</style>\n",
       "<table border=\"1\" class=\"dataframe\">\n",
       "  <thead>\n",
       "    <tr style=\"text-align: right;\">\n",
       "      <th></th>\n",
       "      <th>listing_id</th>\n",
       "      <th>title</th>\n",
       "      <th>make</th>\n",
       "      <th>model</th>\n",
       "      <th>description</th>\n",
       "      <th>manufactured</th>\n",
       "      <th>original_reg_date</th>\n",
       "      <th>reg_date</th>\n",
       "      <th>type_of_vehicle</th>\n",
       "      <th>category</th>\n",
       "      <th>...</th>\n",
       "      <th>accessories_num_punctuations</th>\n",
       "      <th>accessories_num_words_upper</th>\n",
       "      <th>accessories_mean_word_len</th>\n",
       "      <th>description_num_words</th>\n",
       "      <th>description_num_unique_words</th>\n",
       "      <th>description_num_chars</th>\n",
       "      <th>description_num_stopwords</th>\n",
       "      <th>description_num_punctuations</th>\n",
       "      <th>description_num_words_upper</th>\n",
       "      <th>description_mean_word_len</th>\n",
       "    </tr>\n",
       "  </thead>\n",
       "  <tbody>\n",
       "    <tr>\n",
       "      <th>0</th>\n",
       "      <td>1030324</td>\n",
       "      <td>BMW 3 Series 320i Gran Turismo M-Sport</td>\n",
       "      <td>bmw</td>\n",
       "      <td>320i</td>\n",
       "      <td>1 owner! 320i gt m-sports model! big brake kit...</td>\n",
       "      <td>2013.0</td>\n",
       "      <td>NaN</td>\n",
       "      <td>09-dec-2013</td>\n",
       "      <td>luxury sedan</td>\n",
       "      <td>parf car, premium ad car, low mileage car</td>\n",
       "      <td>...</td>\n",
       "      <td>11</td>\n",
       "      <td>0</td>\n",
       "      <td>7.466667</td>\n",
       "      <td>47</td>\n",
       "      <td>44</td>\n",
       "      <td>304</td>\n",
       "      <td>8</td>\n",
       "      <td>13</td>\n",
       "      <td>0</td>\n",
       "      <td>5.489362</td>\n",
       "    </tr>\n",
       "    <tr>\n",
       "      <th>1</th>\n",
       "      <td>1021510</td>\n",
       "      <td>Toyota Hiace 3.0M</td>\n",
       "      <td>NaN</td>\n",
       "      <td>hiace</td>\n",
       "      <td>high loan available! low mileage unit. wear an...</td>\n",
       "      <td>2014.0</td>\n",
       "      <td>NaN</td>\n",
       "      <td>26-jan-2015</td>\n",
       "      <td>van</td>\n",
       "      <td>premium ad car</td>\n",
       "      <td>...</td>\n",
       "      <td>4</td>\n",
       "      <td>0</td>\n",
       "      <td>7.363636</td>\n",
       "      <td>57</td>\n",
       "      <td>52</td>\n",
       "      <td>358</td>\n",
       "      <td>16</td>\n",
       "      <td>11</td>\n",
       "      <td>0</td>\n",
       "      <td>5.298246</td>\n",
       "    </tr>\n",
       "    <tr>\n",
       "      <th>2</th>\n",
       "      <td>1026909</td>\n",
       "      <td>Mercedes-Benz CLA-Class CLA180</td>\n",
       "      <td>mercedes-benz</td>\n",
       "      <td>cla180</td>\n",
       "      <td>1 owner c&amp;c unit. full agent service with 1 mo...</td>\n",
       "      <td>2016.0</td>\n",
       "      <td>NaN</td>\n",
       "      <td>25-jul-2016</td>\n",
       "      <td>luxury sedan</td>\n",
       "      <td>parf car, premium ad car</td>\n",
       "      <td>...</td>\n",
       "      <td>10</td>\n",
       "      <td>0</td>\n",
       "      <td>6.526316</td>\n",
       "      <td>39</td>\n",
       "      <td>36</td>\n",
       "      <td>228</td>\n",
       "      <td>11</td>\n",
       "      <td>10</td>\n",
       "      <td>0</td>\n",
       "      <td>4.871795</td>\n",
       "    </tr>\n",
       "    <tr>\n",
       "      <th>3</th>\n",
       "      <td>1019371</td>\n",
       "      <td>Mercedes-Benz E-Class E180 Avantgarde</td>\n",
       "      <td>mercedes-benz</td>\n",
       "      <td>e180</td>\n",
       "      <td>fully agent maintained, 3 years warranty 10 ye...</td>\n",
       "      <td>2019.0</td>\n",
       "      <td>NaN</td>\n",
       "      <td>17-nov-2020</td>\n",
       "      <td>luxury sedan</td>\n",
       "      <td>parf car, almost new car, consignment car</td>\n",
       "      <td>...</td>\n",
       "      <td>9</td>\n",
       "      <td>0</td>\n",
       "      <td>6.842105</td>\n",
       "      <td>21</td>\n",
       "      <td>20</td>\n",
       "      <td>134</td>\n",
       "      <td>4</td>\n",
       "      <td>6</td>\n",
       "      <td>0</td>\n",
       "      <td>5.428571</td>\n",
       "    </tr>\n",
       "    <tr>\n",
       "      <th>4</th>\n",
       "      <td>1031014</td>\n",
       "      <td>Honda Civic 1.6A VTi</td>\n",
       "      <td>NaN</td>\n",
       "      <td>civic</td>\n",
       "      <td>kah motor unit! 1 owner, lowest 1.98% for full...</td>\n",
       "      <td>2019.0</td>\n",
       "      <td>NaN</td>\n",
       "      <td>20-sep-2019</td>\n",
       "      <td>mid-sized sedan</td>\n",
       "      <td>parf car</td>\n",
       "      <td>...</td>\n",
       "      <td>10</td>\n",
       "      <td>0</td>\n",
       "      <td>6.947368</td>\n",
       "      <td>50</td>\n",
       "      <td>44</td>\n",
       "      <td>308</td>\n",
       "      <td>13</td>\n",
       "      <td>13</td>\n",
       "      <td>0</td>\n",
       "      <td>5.180000</td>\n",
       "    </tr>\n",
       "  </tbody>\n",
       "</table>\n",
       "<p>5 rows × 52 columns</p>\n",
       "</div>"
      ],
      "text/plain": [
       "   listing_id                                   title           make   model  \\\n",
       "0     1030324  BMW 3 Series 320i Gran Turismo M-Sport            bmw    320i   \n",
       "1     1021510                       Toyota Hiace 3.0M            NaN   hiace   \n",
       "2     1026909          Mercedes-Benz CLA-Class CLA180  mercedes-benz  cla180   \n",
       "3     1019371   Mercedes-Benz E-Class E180 Avantgarde  mercedes-benz    e180   \n",
       "4     1031014                    Honda Civic 1.6A VTi            NaN   civic   \n",
       "\n",
       "                                         description  manufactured  \\\n",
       "0  1 owner! 320i gt m-sports model! big brake kit...        2013.0   \n",
       "1  high loan available! low mileage unit. wear an...        2014.0   \n",
       "2  1 owner c&c unit. full agent service with 1 mo...        2016.0   \n",
       "3  fully agent maintained, 3 years warranty 10 ye...        2019.0   \n",
       "4  kah motor unit! 1 owner, lowest 1.98% for full...        2019.0   \n",
       "\n",
       "  original_reg_date     reg_date  type_of_vehicle  \\\n",
       "0               NaN  09-dec-2013     luxury sedan   \n",
       "1               NaN  26-jan-2015              van   \n",
       "2               NaN  25-jul-2016     luxury sedan   \n",
       "3               NaN  17-nov-2020     luxury sedan   \n",
       "4               NaN  20-sep-2019  mid-sized sedan   \n",
       "\n",
       "                                    category  ...  \\\n",
       "0  parf car, premium ad car, low mileage car  ...   \n",
       "1                             premium ad car  ...   \n",
       "2                   parf car, premium ad car  ...   \n",
       "3  parf car, almost new car, consignment car  ...   \n",
       "4                                   parf car  ...   \n",
       "\n",
       "  accessories_num_punctuations  accessories_num_words_upper  \\\n",
       "0                           11                            0   \n",
       "1                            4                            0   \n",
       "2                           10                            0   \n",
       "3                            9                            0   \n",
       "4                           10                            0   \n",
       "\n",
       "   accessories_mean_word_len description_num_words  \\\n",
       "0                   7.466667                    47   \n",
       "1                   7.363636                    57   \n",
       "2                   6.526316                    39   \n",
       "3                   6.842105                    21   \n",
       "4                   6.947368                    50   \n",
       "\n",
       "   description_num_unique_words  description_num_chars  \\\n",
       "0                            44                    304   \n",
       "1                            52                    358   \n",
       "2                            36                    228   \n",
       "3                            20                    134   \n",
       "4                            44                    308   \n",
       "\n",
       "   description_num_stopwords  description_num_punctuations  \\\n",
       "0                          8                            13   \n",
       "1                         16                            11   \n",
       "2                         11                            10   \n",
       "3                          4                             6   \n",
       "4                         13                            13   \n",
       "\n",
       "   description_num_words_upper  description_mean_word_len  \n",
       "0                            0                   5.489362  \n",
       "1                            0                   5.298246  \n",
       "2                            0                   4.871795  \n",
       "3                            0                   5.428571  \n",
       "4                            0                   5.180000  \n",
       "\n",
       "[5 rows x 52 columns]"
      ]
     },
     "execution_count": 105,
     "metadata": {},
     "output_type": "execute_result"
    }
   ],
   "source": [
    "add_basic_text_features(df_input).head(5)"
   ]
  },
  {
   "cell_type": "code",
   "execution_count": 90,
   "metadata": {},
   "outputs": [],
   "source": [
    "def generate_tfidf(column_name):\n",
    "    dataset = list(df_input[column_name].dropna())\n",
    "    tfIdfTransformer = TfidfTransformer(use_idf=True)\n",
    "    countVectorizer = CountVectorizer()\n",
    "    wordCount = countVectorizer.fit_transform(dataset)\n",
    "    newTfIdf = tfIdfTransformer.fit_transform(wordCount)\n",
    "    df_features_tfidf = pd.DataFrame(newTfIdf[0].T.todense(), index=countVectorizer.get_feature_names(), columns=[\"TF-IDF\"])\n",
    "    df_features_tfidf = df_features_tfidf.sort_values('TF-IDF', ascending=False)\n",
    "    return df_features_tfidf\n",
    "\n",
    "def build_wordcloud(tfidf_df):\n",
    "    text = ''\n",
    "    for word, tfidf in tfidf_df.to_dict()['TF-IDF'].items():\n",
    "        for i in range(math.ceil(tfidf)):\n",
    "            text = text + word + ' '\n",
    "\n",
    "    wordcloud_features = WordCloud(stopwords=STOPWORDS, \n",
    "                                   background_color=\"white\",\n",
    "                                   width=10000, height=5000).generate(text)\n",
    "    img_demo = plt.imshow(wordcloud_features)\n",
    "    plt.axis(\"off\")\n",
    "    plt.show()"
   ]
  },
  {
   "cell_type": "code",
   "execution_count": 91,
   "metadata": {},
   "outputs": [
    {
     "data": {
      "image/png": "[encoded data removed]",
      "text/plain": [
       "<Figure size 432x288 with 1 Axes>"
      ]
     },
     "metadata": {
      "needs_background": "light"
     },
     "output_type": "display_data"
    }
   ],
   "source": [
    "df_features_tfidf = generate_tfidf(\"features\")\n",
    "build_wordcloud(df_features_tfidf)"
   ]
  },
  {
   "cell_type": "code",
   "execution_count": 96,
   "metadata": {},
   "outputs": [
    {
     "name": "stdout",
     "output_type": "stream",
     "text": [
      "(6381, 1)\n"
     ]
    }
   ],
   "source": [
    "print(df_features_tfidf.shape)"
   ]
  },
  {
   "cell_type": "code",
   "execution_count": 92,
   "metadata": {},
   "outputs": [
    {
     "data": {
      "image/png": "[encoded data removed]",
      "text/plain": [
       "<Figure size 432x288 with 1 Axes>"
      ]
     },
     "metadata": {
      "needs_background": "light"
     },
     "output_type": "display_data"
    }
   ],
   "source": [
    "df_accessories_tfidf = generate_tfidf(\"accessories\")\n",
    "build_wordcloud(df_accessories_tfidf)"
   ]
  },
  {
   "cell_type": "code",
   "execution_count": 97,
   "metadata": {},
   "outputs": [
    {
     "name": "stdout",
     "output_type": "stream",
     "text": [
      "(5185, 1)\n"
     ]
    }
   ],
   "source": [
    "print(df_accessories_tfidf.shape)"
   ]
  },
  {
   "cell_type": "code",
   "execution_count": 93,
   "metadata": {},
   "outputs": [
    {
     "data": {
      "image/png": "[encoded data removed]",
      "text/plain": [
       "<Figure size 432x288 with 1 Axes>"
      ]
     },
     "metadata": {
      "needs_background": "light"
     },
     "output_type": "display_data"
    }
   ],
   "source": [
    "df_description_tfidf = generate_tfidf(\"description\")\n",
    "build_wordcloud(df_description_tfidf)"
   ]
  },
  {
   "cell_type": "code",
   "execution_count": 98,
   "metadata": {},
   "outputs": [
    {
     "name": "stdout",
     "output_type": "stream",
     "text": [
      "(11095, 1)\n"
     ]
    }
   ],
   "source": [
    "print(df_description_tfidf.shape)"
   ]
  },
  {
   "cell_type": "code",
   "execution_count": 109,
   "metadata": {},
   "outputs": [
    {
     "name": "stdout",
     "output_type": "stream",
     "text": [
      "(16325, 6381)\n"
     ]
    }
   ],
   "source": [
    "from sklearn.feature_extraction.text import TfidfVectorizer\n",
    "corpus = list(df_input[\"features\"].dropna())\n",
    "vectorizer = TfidfVectorizer()\n",
    "X = vectorizer.fit_transform(corpus)\n",
    "print(X.shape)"
   ]
  },
  {
   "cell_type": "code",
   "execution_count": 113,
   "metadata": {},
   "outputs": [
    {
     "data": {
      "text/plain": [
       "16325"
      ]
     },
     "execution_count": 113,
     "metadata": {},
     "output_type": "execute_result"
    }
   ],
   "source": [
    "len(corpus)"
   ]
  },
  {
   "cell_type": "markdown",
   "metadata": {},
   "source": [
    "- examine tfidf matrix for each row, find the tfidf that has the highest correlation with the target variable and add that as the feature\n",
    "- try out word embedding\n",
    "- [optional] try out sentment analysis score for each column"
   ]
  }
 ],
 "metadata": {
  "kernelspec": {
   "display_name": "py37",
   "language": "python",
   "name": "py37"
  },
  "language_info": {
   "codemirror_mode": {
    "name": "ipython",
    "version": 3
   },
   "file_extension": ".py",
   "mimetype": "text/x-python",
   "name": "python",
   "nbconvert_exporter": "python",
   "pygments_lexer": "ipython3",
   "version": "3.7.9"
  }
 },
 "nbformat": 4,
 "nbformat_minor": 2
}
